{
 "cells": [
  {
   "cell_type": "markdown",
   "id": "eb977eef",
   "metadata": {},
   "source": [
    "# Prepare Q&A"
   ]
  },
  {
   "cell_type": "code",
   "execution_count": 1,
   "id": "b28c36ec",
   "metadata": {},
   "outputs": [],
   "source": [
    "import pathlib\n",
    "import pandas as pd"
   ]
  },
  {
   "cell_type": "code",
   "execution_count": 2,
   "id": "512da78d",
   "metadata": {},
   "outputs": [],
   "source": [
    "def list_csv_files(base_path: str | pathlib.Path, recursive: bool = False) -> list[pathlib.Path]:\n",
    "    \"\"\"\n",
    "    Return Path objects for every *.csv file under `given path`.\n",
    "    If `recursive` is True, look through sub-directories too.\n",
    "    \"\"\"\n",
    "    base = pathlib.Path(base_path).expanduser().resolve()\n",
    "    pattern = \"**/*.csv\" if recursive else \"*.csv\"\n",
    "    return sorted(base.glob(pattern))\n"
   ]
  },
  {
   "cell_type": "code",
   "execution_count": 3,
   "id": "6717ab90",
   "metadata": {},
   "outputs": [],
   "source": [
    "def load_and_clean(file_path: pathlib.Path) -> pd.DataFrame:\n",
    "    \"\"\"\n",
    "    Read one quiz CSV, drop rows containing *any* NaNs,\n",
    "    convert 'Correct' text → letter (A/B/C/D),\n",
    "    and add a 'genre' column from the file name stem.\n",
    "    \"\"\"\n",
    "    \n",
    "    # read (skip the dummy index column)\n",
    "    df = pd.read_csv(file_path, index_col=0)\n",
    "    \n",
    "    # normalise column names\n",
    "    df.columns = [c.strip().lower() for c in df.columns]\n",
    "    df = df.rename(columns={\n",
    "        \"questions\": \"question\",\n",
    "        \"correct\":   \"answer\"\n",
    "    })\n",
    "    # drop rows with *any* empty cells\n",
    "    df = df.dropna(how=\"any\").reset_index(drop=True)\n",
    "    \n",
    "    # figure out which letter (A/B/C/D) matches the 'answer' text\n",
    "    def answer_letter(row):\n",
    "        letter_to_num = {\n",
    "            \"A\": 0,\n",
    "            \"B\": 1,\n",
    "            \"C\": 2,\n",
    "            \"D\": 3,\n",
    "        }\n",
    "        for letter in (\"A\", \"B\", \"C\", \"D\"):\n",
    "            if row[\"answer\"].strip().casefold() == row[letter.lower()].strip().casefold():\n",
    "                return letter_to_num[letter]\n",
    "        return pd.NA\n",
    "    \n",
    "    df[\"answer\"] = df.apply(answer_letter, axis=1)\n",
    "    df = df.dropna(subset=[\"answer\"])\n",
    "\n",
    "    # replace all the \\n with a white space in questions\n",
    "    df[\"question\"] = (\n",
    "    df[\"question\"]\n",
    "      .str.replace(r'[\\r\\n]+', ' ', regex=True)\n",
    "      .str.strip()\n",
    "    )\n",
    "    \n",
    "    # add genre column\n",
    "    df[\"genre\"] = file_path.stem.split(\"category_\")[1]\n",
    "    df = df[[\"genre\", \"question\", \"answer\", \"a\", \"b\", \"c\", \"d\"]]\n",
    "    return df\n"
   ]
  },
  {
   "cell_type": "code",
   "execution_count": 4,
   "id": "daadd977",
   "metadata": {},
   "outputs": [
    {
     "name": "stdout",
     "output_type": "stream",
     "text": [
      "Found 22 CSV files\n",
      "Three of these animals hibernate. Which one does not?\n"
     ]
    },
    {
     "data": {
      "text/html": [
       "<div>\n",
       "<style scoped>\n",
       "    .dataframe tbody tr th:only-of-type {\n",
       "        vertical-align: middle;\n",
       "    }\n",
       "\n",
       "    .dataframe tbody tr th {\n",
       "        vertical-align: top;\n",
       "    }\n",
       "\n",
       "    .dataframe thead th {\n",
       "        text-align: right;\n",
       "    }\n",
       "</style>\n",
       "<table border=\"1\" class=\"dataframe\">\n",
       "  <thead>\n",
       "    <tr style=\"text-align: right;\">\n",
       "      <th></th>\n",
       "      <th>genre</th>\n",
       "      <th>question</th>\n",
       "      <th>answer</th>\n",
       "      <th>a</th>\n",
       "      <th>b</th>\n",
       "      <th>c</th>\n",
       "      <th>d</th>\n",
       "    </tr>\n",
       "  </thead>\n",
       "  <tbody>\n",
       "    <tr>\n",
       "      <th>0</th>\n",
       "      <td>animals</td>\n",
       "      <td>Three of these animals hibernate. Which one do...</td>\n",
       "      <td>1</td>\n",
       "      <td>Mouse</td>\n",
       "      <td>Sloth</td>\n",
       "      <td>Frog</td>\n",
       "      <td>Snake</td>\n",
       "    </tr>\n",
       "    <tr>\n",
       "      <th>1</th>\n",
       "      <td>animals</td>\n",
       "      <td>All of these animals are omnivorous except one.</td>\n",
       "      <td>3</td>\n",
       "      <td>Fox</td>\n",
       "      <td>Mouse</td>\n",
       "      <td>Opossum</td>\n",
       "      <td>Snail</td>\n",
       "    </tr>\n",
       "    <tr>\n",
       "      <th>2</th>\n",
       "      <td>animals</td>\n",
       "      <td>Three of these Latin names are names of bears....</td>\n",
       "      <td>3</td>\n",
       "      <td>Melursus ursinus</td>\n",
       "      <td>Helarctos malayanus</td>\n",
       "      <td>Ursus minimus</td>\n",
       "      <td>Felis silvestris catus</td>\n",
       "    </tr>\n",
       "    <tr>\n",
       "      <th>3</th>\n",
       "      <td>animals</td>\n",
       "      <td>These are typical Australian animals except one.</td>\n",
       "      <td>3</td>\n",
       "      <td>Platypus</td>\n",
       "      <td>Dingo</td>\n",
       "      <td>Echidna</td>\n",
       "      <td>Sloth</td>\n",
       "    </tr>\n",
       "    <tr>\n",
       "      <th>4</th>\n",
       "      <td>animals</td>\n",
       "      <td>Representatives of three of these species prod...</td>\n",
       "      <td>3</td>\n",
       "      <td>Lizards</td>\n",
       "      <td>Scorpions</td>\n",
       "      <td>Frogs</td>\n",
       "      <td>Mosquitos</td>\n",
       "    </tr>\n",
       "  </tbody>\n",
       "</table>\n",
       "</div>"
      ],
      "text/plain": [
       "     genre                                           question answer  \\\n",
       "0  animals  Three of these animals hibernate. Which one do...      1   \n",
       "1  animals    All of these animals are omnivorous except one.      3   \n",
       "2  animals  Three of these Latin names are names of bears....      3   \n",
       "3  animals   These are typical Australian animals except one.      3   \n",
       "4  animals  Representatives of three of these species prod...      3   \n",
       "\n",
       "                  a                    b              c  \\\n",
       "0             Mouse                Sloth           Frog   \n",
       "1               Fox                Mouse        Opossum   \n",
       "2  Melursus ursinus  Helarctos malayanus  Ursus minimus   \n",
       "3          Platypus                Dingo        Echidna   \n",
       "4           Lizards            Scorpions          Frogs   \n",
       "\n",
       "                        d  \n",
       "0                   Snake  \n",
       "1                   Snail  \n",
       "2  Felis silvestris catus  \n",
       "3                   Sloth  \n",
       "4               Mosquitos  "
      ]
     },
     "execution_count": 4,
     "metadata": {},
     "output_type": "execute_result"
    }
   ],
   "source": [
    "BASE_DIR = r\"/home/azureuser/trividuel/qna_preparation/archive\"  \n",
    "\n",
    "csv_files = list_csv_files(BASE_DIR) \n",
    "print(f\"Found {len(csv_files)} CSV files\")\n",
    "\n",
    "frames = [load_and_clean(p) for p in csv_files]\n",
    "combined = pd.concat(frames, ignore_index=True)\n",
    "\n",
    "print(combined['question'][0])\n",
    "\n",
    "combined.head(5)\n"
   ]
  },
  {
   "cell_type": "code",
   "execution_count": 5,
   "id": "064ee268",
   "metadata": {},
   "outputs": [
    {
     "name": "stdout",
     "output_type": "stream",
     "text": [
      "<class 'pandas.core.frame.DataFrame'>\n",
      "RangeIndex: 41785 entries, 0 to 41784\n",
      "Data columns (total 7 columns):\n",
      " #   Column    Non-Null Count  Dtype \n",
      "---  ------    --------------  ----- \n",
      " 0   genre     41785 non-null  object\n",
      " 1   question  41785 non-null  object\n",
      " 2   answer    41785 non-null  object\n",
      " 3   a         41785 non-null  object\n",
      " 4   b         41785 non-null  object\n",
      " 5   c         41785 non-null  object\n",
      " 6   d         41785 non-null  object\n",
      "dtypes: object(7)\n",
      "memory usage: 2.2+ MB\n"
     ]
    }
   ],
   "source": [
    "combined.info()"
   ]
  },
  {
   "cell_type": "code",
   "execution_count": 6,
   "id": "0fd027f0",
   "metadata": {},
   "outputs": [
    {
     "name": "stdout",
     "output_type": "stream",
     "text": [
      "Final File Saved\n"
     ]
    }
   ],
   "source": [
    "combined.to_csv(\"combined_quiz.csv\", index=False)\n",
    "print(\"Final File Saved\")\n"
   ]
  },
  {
   "cell_type": "markdown",
   "id": "1fad4e91",
   "metadata": {},
   "source": []
  },
  {
   "cell_type": "code",
   "execution_count": null,
   "id": "4ccf3534",
   "metadata": {},
   "outputs": [],
   "source": [
    "# save a copy directly to backend :)\n",
    "combined.to_csv(\"../backend/app/data/combined_quiz.csv\", index=False)"
   ]
  }
 ],
 "metadata": {
  "kernelspec": {
   "display_name": "Python 3",
   "language": "python",
   "name": "python3"
  },
  "language_info": {
   "codemirror_mode": {
    "name": "ipython",
    "version": 3
   },
   "file_extension": ".py",
   "mimetype": "text/x-python",
   "name": "python",
   "nbconvert_exporter": "python",
   "pygments_lexer": "ipython3",
   "version": "3.10.16"
  }
 },
 "nbformat": 4,
 "nbformat_minor": 5
}
